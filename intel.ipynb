{
 "cells": [
  {
   "cell_type": "code",
   "execution_count": 62,
   "metadata": {
    "collapsed": true
   },
   "outputs": [],
   "source": [
    "import sys\n",
    "import numpy as np\n",
    "import datetime"
   ]
  },
  {
   "cell_type": "code",
   "execution_count": 63,
   "metadata": {
    "collapsed": true
   },
   "outputs": [],
   "source": [
    "#para ler dos argumentos\n",
    "#text_file=sys.argv[1]\n",
    "#file_object  = open(text_file, 'r')\n",
    "file_object  = open('mir.txt', 'r')"
   ]
  },
  {
   "cell_type": "code",
   "execution_count": 64,
   "metadata": {
    "collapsed": true
   },
   "outputs": [],
   "source": [
    "data = file_object.readlines()"
   ]
  },
  {
   "cell_type": "code",
   "execution_count": 65,
   "metadata": {},
   "outputs": [],
   "source": [
    "weights={}\n",
    "edges=np.empty((0,2),int)\n",
    "launches=np.empty((0,4),int)\n",
    "\n",
    "for line in data:\n",
    "    if line[0]=='V':\n",
    "        #creates dictionary with weights of modules\n",
    "        words = line.split()\n",
    "        weights[line[1:3]]=words[1]\n",
    "    elif line[0]=='E':\n",
    "        #creates numpy array with edges\n",
    "        words = line.split()\n",
    "        edges = np.vstack((edges,[words[1] ,words[2]]))\n",
    "    elif line[0]=='L':\n",
    "        #creates numpy array with launches - dates in datetime.date format\n",
    "        words = line.split()\n",
    "        launches=np.vstack((launches, [datetime.date(int(words[1][4:8]),int(words[1][2:4]),int(words[1][0:2])) ,words[2],words[3] ,words[4]]))\n"
   ]
  },
  {
   "cell_type": "code",
   "execution_count": 66,
   "metadata": {},
   "outputs": [
    {
     "name": "stdout",
     "output_type": "stream",
     "text": [
      "{'DM': '4.3', 'K2': '19.64', 'S ': '19.64', 'P ': '19.7', 'ST': '7.15', 'K ': '19.64', 'PM': '7.13', 'CM': '20.4', 'K1': '20.6'}\n",
      "[['VPM' 'VK1']\n",
      " ['VK1' 'VCM']\n",
      " ['VCM' 'VP']\n",
      " ['VCM' 'VS']\n",
      " ['VCM' 'VSTM']\n",
      " ['VCM' 'VK']\n",
      " ['VCM' 'VK2']\n",
      " ['VK' 'VDM']]\n",
      "[[datetime.date(2017, 8, 14) '22.8' '62' '0.4']\n",
      " [datetime.date(2017, 11, 10) '22.8' '62' '0.4']\n",
      " [datetime.date(2017, 11, 28) '140' '90' '1.8']\n",
      " [datetime.date(2018, 1, 26) '70' '85' '1.2']\n",
      " [datetime.date(2018, 3, 9) '22.8' '62' '1.2']\n",
      " [datetime.date(2018, 3, 14) '250' '132' '1.6']\n",
      " [datetime.date(2018, 6, 6) '22.8' '49' '0.4']\n",
      " [datetime.date(2018, 6, 22) '22.8' '49' '0.4']\n",
      " [datetime.date(2018, 8, 1) '23' '32' '1']\n",
      " [datetime.date(2018, 8, 16) '115' '86' '1.2']]\n"
     ]
    }
   ],
   "source": [
    "print(weights)\n",
    "print(edges)\n",
    "print(launches)"
   ]
  }
 ],
 "metadata": {
  "kernelspec": {
   "display_name": "Python 3",
   "language": "python",
   "name": "python3"
  },
  "language_info": {
   "codemirror_mode": {
    "name": "ipython",
    "version": 3
   },
   "file_extension": ".py",
   "mimetype": "text/x-python",
   "name": "python",
   "nbconvert_exporter": "python",
   "pygments_lexer": "ipython3",
   "version": "3.5.4"
  }
 },
 "nbformat": 4,
 "nbformat_minor": 2
}
